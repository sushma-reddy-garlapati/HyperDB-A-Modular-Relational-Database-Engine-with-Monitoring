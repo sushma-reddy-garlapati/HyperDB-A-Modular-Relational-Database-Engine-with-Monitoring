{
 "cells": [
  {
   "cell_type": "code",
   "execution_count": 7,
   "id": "ab886090-a536-45a5-867d-582e50353e9d",
   "metadata": {},
   "outputs": [
    {
     "data": {
      "text/plain": [
       "['Hello, world!', 'This is HyperDB.']"
      ]
     },
     "execution_count": 7,
     "metadata": {},
     "output_type": "execute_result"
    }
   ],
   "source": [
    "page = Page(page_id=1)\n",
    "page.insert_record(\"Hello, world!\")\n",
    "page.insert_record(\"This is HyperDB.\")\n",
    "page.get_records()\n"
   ]
  },
  {
   "cell_type": "code",
   "execution_count": 8,
   "id": "b392c349-c755-4f60-a18d-ad134957c594",
   "metadata": {},
   "outputs": [
    {
     "data": {
      "text/plain": [
       "['First record', 'Second record']"
      ]
     },
     "execution_count": 8,
     "metadata": {},
     "output_type": "execute_result"
    }
   ],
   "source": [
    "from minidb.storage.page import Page\n",
    "from minidb.storage.filemanager import FileManager\n",
    "\n",
    "page = Page(page_id=1)\n",
    "page.insert_record(\"First record\")\n",
    "page.insert_record(\"Second record\")\n",
    "\n",
    "fm = FileManager()\n",
    "fm.save_page(page)\n",
    "\n",
    "loaded = fm.load_page(1)\n",
    "loaded.get_records()\n",
    "\n"
   ]
  },
  {
   "cell_type": "code",
   "execution_count": 1,
   "id": "a103431a-cd16-4ac8-bb22-97a2e4fa7d96",
   "metadata": {},
   "outputs": [
    {
     "name": "stdout",
     "output_type": "stream",
     "text": [
      "Evicted page 1 from buffer.\n",
      "Evicted page 2 from buffer.\n",
      "Evicted page 3 from buffer.\n",
      "['Record in page 2']\n"
     ]
    }
   ],
   "source": [
    "from minidb.storage.page import Page\n",
    "from minidb.buffer.buffer_manager import BufferManager\n",
    "\n",
    "bm = BufferManager(capacity=2)\n",
    "\n",
    "# Create and insert pages\n",
    "for i in range(1, 5):\n",
    "    page = Page(page_id=i)\n",
    "    page.insert_record(f\"Record in page {i}\")\n",
    "    bm.insert_page(page)\n",
    "\n",
    "# Access a page\n",
    "p = bm.get_page(2)\n",
    "print(p.get_records())\n"
   ]
  },
  {
   "cell_type": "code",
   "execution_count": 2,
   "id": "882bde70-88bb-4581-9dcd-2ed9cc36073b",
   "metadata": {},
   "outputs": [
    {
     "name": "stdout",
     "output_type": "stream",
     "text": [
      "Lookup key_2 → Page 2 → Records: ['Data for key_2']\n"
     ]
    }
   ],
   "source": [
    "from minidb.index.index import HashIndex\n",
    "from minidb.buffer.buffer_manager import BufferManager\n",
    "from minidb.storage.page import Page\n",
    "\n",
    "# Setup\n",
    "bm = BufferManager(capacity=3)\n",
    "index = HashIndex()\n",
    "\n",
    "# Insert pages and index keys\n",
    "for i in range(1, 4):\n",
    "    page = Page(page_id=i)\n",
    "    page.insert_record(f\"Data for key_{i}\")\n",
    "    bm.insert_page(page)\n",
    "    index.insert(f\"key_{i}\", i)\n",
    "\n",
    "# Lookup and retrieve\n",
    "key = \"key_2\"\n",
    "page_id = index.lookup(key)\n",
    "page = bm.get_page(page_id)\n",
    "print(f\"Lookup {key} → Page {page_id} → Records: {page.get_records()}\")\n"
   ]
  },
  {
   "cell_type": "code",
   "execution_count": 1,
   "id": "5d505395-d5f0-4068-86e4-82feb0e34887",
   "metadata": {},
   "outputs": [
    {
     "name": "stdout",
     "output_type": "stream",
     "text": [
      "Query Results: ['user_1: email_1@example.com', 'user_2: email_2@example.com', 'user_3: email_3@example.com']\n"
     ]
    }
   ],
   "source": [
    "from minidb.query.query_engine import QueryEngine\n",
    "from minidb.buffer.buffer_manager import BufferManager\n",
    "from minidb.storage.page import Page\n",
    "\n",
    "bm = BufferManager(capacity=3)\n",
    "qe = QueryEngine(buffer_manager=bm)\n",
    "\n",
    "for i in range(1, 4):\n",
    "    page = Page(page_id=i)\n",
    "    page.insert_record(f\"user_{i}: email_{i}@example.com\")\n",
    "    page.insert_record(f\"user_{i}: phone_{i}\")\n",
    "    bm.insert_page(page)\n",
    "\n",
    "scanned = qe.scan([1, 2, 3])\n",
    "filtered = qe.filter(scanned, \"email\")\n",
    "projected = qe.project(filtered)\n",
    "\n",
    "print(\"Query Results:\", projected)\n"
   ]
  },
  {
   "cell_type": "code",
   "execution_count": 18,
   "id": "48d0253c-a5a5-40da-9e4b-44c284c4653a",
   "metadata": {},
   "outputs": [
    {
     "name": "stdout",
     "output_type": "stream",
     "text": [
      "The autoreload extension is already loaded. To reload it, use:\n",
      "  %reload_ext autoreload\n"
     ]
    }
   ],
   "source": [
    "%load_ext autoreload\n",
    "%autoreload 2\n"
   ]
  },
  {
   "cell_type": "code",
   "execution_count": 1,
   "id": "f668fa06-e8c6-451b-b979-762c43404ff4",
   "metadata": {},
   "outputs": [
    {
     "name": "stdout",
     "output_type": "stream",
     "text": [
      "user_1: alice@example.com\n"
     ]
    }
   ],
   "source": [
    "from minidb.buffer.buffer_manager import BufferManager\n",
    "\n",
    "bm = BufferManager()\n",
    "bm.insert_record(\"user_1\", \"alice@example.com\")\n",
    "print(bm.get_record(\"user_1\"))\n",
    "\n"
   ]
  },
  {
   "cell_type": "code",
   "execution_count": 2,
   "id": "f2d653a0-6aa7-4b43-9a5b-a379d44c5611",
   "metadata": {},
   "outputs": [
    {
     "name": "stdout",
     "output_type": "stream",
     "text": [
      "Page 1: ['user_1: alice@example.com']\n"
     ]
    }
   ],
   "source": [
    "for page in bm.buffer.values():\n",
    "    print(f\"Page {page.page_id}:\", page.get_records())\n"
   ]
  },
  {
   "cell_type": "code",
   "execution_count": 3,
   "id": "b0467f27-1417-48db-8f5c-008f3f43c6aa",
   "metadata": {},
   "outputs": [
    {
     "name": "stdout",
     "output_type": "stream",
     "text": [
      "After deletion: None\n",
      "Page 1: []\n"
     ]
    }
   ],
   "source": [
    "bm.delete_record(\"user_1\")\n",
    "print(\"After deletion:\", bm.get_record(\"user_1\"))  # Should print None\n",
    "\n",
    "# View active records in Page 1\n",
    "for page in bm.buffer.values():\n",
    "    print(f\"Page {page.page_id}:\", page.get_records())\n"
   ]
  },
  {
   "cell_type": "code",
   "execution_count": null,
   "id": "6a86f25a-23c2-4a59-b50d-a1f1c6494d32",
   "metadata": {},
   "outputs": [],
   "source": []
  }
 ],
 "metadata": {
  "kernelspec": {
   "display_name": "Python [conda env:base] *",
   "language": "python",
   "name": "conda-base-py"
  },
  "language_info": {
   "codemirror_mode": {
    "name": "ipython",
    "version": 3
   },
   "file_extension": ".py",
   "mimetype": "text/x-python",
   "name": "python",
   "nbconvert_exporter": "python",
   "pygments_lexer": "ipython3",
   "version": "3.12.7"
  }
 },
 "nbformat": 4,
 "nbformat_minor": 5
}
